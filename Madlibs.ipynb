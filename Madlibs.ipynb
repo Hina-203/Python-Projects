{
 "cells": [
  {
   "cell_type": "markdown",
   "id": "2a175278",
   "metadata": {},
   "source": [
    "# Madlibs\n",
    "\n",
    "\n",
    "Madlib is a fun word game where you fill in the blanks in a story with random words (like nouns, verbs, adjectives), creating a hilarious and often nonsensical story. It's great for a quick laugh and some creative fun!"
   ]
  },
  {
   "cell_type": "code",
   "execution_count": null,
   "id": "37b584c6",
   "metadata": {},
   "outputs": [],
   "source": [
    "#Example 1\n",
    "\n",
    "adj= input(\"Adjective : \")\n",
    "noun= input(\"Noun: \")\n",
    "\n",
    "# Get words from the user\n",
    "madlib = f\"Computer programming is a so {adj}! It makes me so exited  \\\n",
    "all the time to make some funny things like {noun}!. I love  to enjoy it.\"\n",
    "\n",
    "print(madlib)"
   ]
  },
  {
   "cell_type": "code",
   "execution_count": null,
   "id": "abc8967e",
   "metadata": {},
   "outputs": [],
   "source": [
    "#Another one\n",
    "\n",
    "story = \"\"\"\n",
    "Once upon a time in a {adj1} land, there was a {noun1} who {verb1} {adverb}.\n",
    "The {noun1} had a best friend who was a {adj2} {noun2}.\n",
    "They went on a journey to find the legendary {noun3} and became the {adj3} heroes of the land.\n",
    "\"\"\"\n",
    "\n",
    "# Get words from the user\n",
    "adj1 = input(\"Enter an adjective: \")\n",
    "noun1 = input(\"Enter a noun: \")\n",
    "verb1 = input(\"Enter a verb (past tense): \")\n",
    "adverb = input(\"Enter an adverb: \")\n",
    "adj2 = input(\"Enter another adjective: \")\n",
    "noun2 = input(\"Enter another noun: \")\n",
    "noun3 = input(\"Enter a noun: \")\n",
    "adj3 = input(\"Enter another adjective: \")\n",
    "\n",
    "# Fill in the story with the user's words\n",
    "filled_story = story.format(adj1=adj1, noun1=noun1, verb1=verb1, adverb=adverb, adj2=adj2, noun2=noun2, noun3=noun3, adj3=adj3)\n",
    "\n",
    "# Print the completed story\n",
    "print(filled_story)"
   ]
  },
  {
   "cell_type": "code",
   "execution_count": null,
   "id": "466b4c65",
   "metadata": {},
   "outputs": [],
   "source": [
    "#Note: We have to use format funtion here to align the input values in the given variables.\n",
    "# Here, we have used format in two ways, one is via f\" and other via directly format()"
   ]
  }
 ],
 "metadata": {
  "kernelspec": {
   "display_name": "Python 3 (ipykernel)",
   "language": "python",
   "name": "python3"
  },
  "language_info": {
   "codemirror_mode": {
    "name": "ipython",
    "version": 3
   },
   "file_extension": ".py",
   "mimetype": "text/x-python",
   "name": "python",
   "nbconvert_exporter": "python",
   "pygments_lexer": "ipython3",
   "version": "3.11.7"
  }
 },
 "nbformat": 4,
 "nbformat_minor": 5
}
